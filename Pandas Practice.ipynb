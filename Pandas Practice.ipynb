{
 "cells": [
  {
   "cell_type": "code",
   "execution_count": 1,
   "id": "306acc30",
   "metadata": {},
   "outputs": [],
   "source": [
    "import pandas as pd\n",
    "import inspect\n",
    "import os"
   ]
  },
  {
   "cell_type": "markdown",
   "id": "9b4bea1b",
   "metadata": {},
   "source": [
    "Setting the limits of the rows and columns to display all"
   ]
  },
  {
   "cell_type": "code",
   "execution_count": 2,
   "id": "bdaab2f9",
   "metadata": {},
   "outputs": [],
   "source": [
    "pd.set_option('display.max_columns',85)\n",
    "pd.set_option('display.max_rows',85)"
   ]
  },
  {
   "cell_type": "code",
   "execution_count": 3,
   "id": "8f11bb32",
   "metadata": {},
   "outputs": [
    {
     "data": {
      "text/plain": [
       "'C:\\\\Users\\\\DR_OM\\\\Z-Jupyter Files'"
      ]
     },
     "execution_count": 3,
     "metadata": {},
     "output_type": "execute_result"
    }
   ],
   "source": [
    "os.getcwd()"
   ]
  },
  {
   "cell_type": "markdown",
   "id": "78a00982",
   "metadata": {},
   "source": [
    "Setting the default file directory to a certain folder"
   ]
  },
  {
   "cell_type": "code",
   "execution_count": 4,
   "id": "fb60d262",
   "metadata": {},
   "outputs": [],
   "source": [
    "os.chdir('C:\\\\Users\\\\DR_OM\\\\Z-Jupyter Extras')"
   ]
  },
  {
   "cell_type": "code",
   "execution_count": 50,
   "id": "9367440a",
   "metadata": {},
   "outputs": [],
   "source": [
    "# handling missing data\n",
    "# Can pass na_vals in read_csv with parameter na_values=na_vals\n",
    "\n",
    "# Can set index column with parameter index_col='Respondent'\n",
    "na_vals = ['NA', 'Missing']\n",
    "\n",
    "df = pd.read_csv('survey_results_public.csv')\n",
    "schema_df = pd.read_csv('survey_results_schema.csv')"
   ]
  },
  {
   "cell_type": "code",
   "execution_count": 6,
   "id": "e076af99",
   "metadata": {},
   "outputs": [
    {
     "data": {
      "text/plain": [
       "(88883, 85)"
      ]
     },
     "execution_count": 6,
     "metadata": {},
     "output_type": "execute_result"
    }
   ],
   "source": [
    "df.shape"
   ]
  },
  {
   "cell_type": "code",
   "execution_count": 7,
   "id": "471f949e",
   "metadata": {},
   "outputs": [],
   "source": [
    "#df.columns\n",
    "#df.info()"
   ]
  },
  {
   "cell_type": "code",
   "execution_count": 8,
   "id": "6175a157",
   "metadata": {},
   "outputs": [],
   "source": [
    "#df.iloc[0,:3], df.loc[0,:\"Hobbyist\"]\n",
    "#df.iloc[[0, 1]]\n",
    "#df.loc[[0, 1], :\"Hobbyist\"]\n",
    "#df.loc[[0, 1], [\"Respondent\", \"MainBranch\", \"Hobbyist\", \"Employment\"]]"
   ]
  },
  {
   "cell_type": "code",
   "execution_count": 9,
   "id": "e4c0fed3",
   "metadata": {},
   "outputs": [
    {
     "data": {
      "text/plain": [
       "Yes    71257\n",
       "No     17626\n",
       "Name: Hobbyist, dtype: int64"
      ]
     },
     "execution_count": 9,
     "metadata": {},
     "output_type": "execute_result"
    }
   ],
   "source": [
    "#df.loc[:,\"Hobbyist\"]\n",
    "#df['Hobbyist']\n",
    "df['Hobbyist'].value_counts()"
   ]
  },
  {
   "cell_type": "code",
   "execution_count": 10,
   "id": "cde65f17",
   "metadata": {},
   "outputs": [],
   "source": [
    "# The same\n",
    "#df.loc[0:2,'Hobbyist':'Employment']\n",
    "#df.loc[[0, 1, 2], 'Hobbyist': 'Employment']"
   ]
  },
  {
   "cell_type": "code",
   "execution_count": 11,
   "id": "83589436",
   "metadata": {},
   "outputs": [],
   "source": [
    "df.set_index('Respondent', inplace=True)\n",
    "#df.index\n",
    "#df.head(2)\n",
    "#dd.reset_index(inplace=True)\n",
    "#df.reset_index(inplace=True)"
   ]
  },
  {
   "cell_type": "code",
   "execution_count": 12,
   "id": "44fa3744",
   "metadata": {},
   "outputs": [],
   "source": [
    "schema_df.set_index('Column', inplace=True)"
   ]
  },
  {
   "cell_type": "code",
   "execution_count": 13,
   "id": "f1a8750d",
   "metadata": {},
   "outputs": [
    {
     "data": {
      "text/plain": [
       "QuestionText    Do you code as a hobby?\n",
       "Name: Hobbyist, dtype: object"
      ]
     },
     "execution_count": 13,
     "metadata": {},
     "output_type": "execute_result"
    }
   ],
   "source": [
    "schema_df.loc['Hobbyist']"
   ]
  },
  {
   "cell_type": "code",
   "execution_count": 14,
   "id": "e9d51100",
   "metadata": {},
   "outputs": [],
   "source": [
    "#print(inspect.getsource(pd))"
   ]
  },
  {
   "cell_type": "code",
   "execution_count": 15,
   "id": "4c1d5fb7",
   "metadata": {},
   "outputs": [
    {
     "data": {
      "text/plain": [
       "'How confident are you that your manager knows what they’re doing?'"
      ]
     },
     "execution_count": 15,
     "metadata": {},
     "output_type": "execute_result"
    }
   ],
   "source": [
    "schema_df.loc['MgrIdiot', 'QuestionText']"
   ]
  },
  {
   "cell_type": "code",
   "execution_count": 16,
   "id": "786a6341",
   "metadata": {},
   "outputs": [],
   "source": [
    "#schema_df.sort_index()\n",
    "#schema_df.sort_index(ascending=False)"
   ]
  },
  {
   "cell_type": "code",
   "execution_count": 17,
   "id": "6f6e212d",
   "metadata": {},
   "outputs": [],
   "source": [
    "# Filtering salary above value\n",
    "high_salary = (df['ConvertedComp'] > 70000)"
   ]
  },
  {
   "cell_type": "code",
   "execution_count": 18,
   "id": "6159daae",
   "metadata": {},
   "outputs": [],
   "source": [
    "#df.loc[high_salary, ['Country', 'LanguageWorkedWith','ConvertedComp']]"
   ]
  },
  {
   "cell_type": "code",
   "execution_count": 19,
   "id": "5ef51db8",
   "metadata": {},
   "outputs": [],
   "source": [
    "# Filtering countries to list\n",
    "countries = ['United States', 'India', 'United Kingdom', 'Germany', 'Canada']\n",
    "africa = ['Ethiopia', 'Eritrea']\n",
    "filt = df['Country'].isin(countries)\n",
    "#df.loc[filt, 'Country']"
   ]
  },
  {
   "cell_type": "code",
   "execution_count": 20,
   "id": "ec78d25e",
   "metadata": {},
   "outputs": [],
   "source": [
    "python_dev_count = df['LanguageWorkedWith'].isin([\"Python\"])\n",
    "#df[python_dev_count].head(2)\n",
    "#df.loc[python_dev_count]['LanguageWorkedWith'].value_counts()"
   ]
  },
  {
   "cell_type": "code",
   "execution_count": 21,
   "id": "e9d59bd7",
   "metadata": {},
   "outputs": [],
   "source": [
    "# Filtering column to find Python in column\n",
    "filt2 = df['LanguageWorkedWith'].str.contains('Python', na=False)\n",
    "#df.loc[filt2, 'LanguageWorkedWith']"
   ]
  },
  {
   "cell_type": "code",
   "execution_count": 22,
   "id": "02424eac",
   "metadata": {},
   "outputs": [],
   "source": [
    "# Change column names\n",
    "df2 = df.iloc[0:5, :3]\n",
    "df2.columns = ['A B', 'B', 'C']\n",
    "df2.columns = [x.lower() for x in df2.columns]\n",
    "df2.columns = df2.columns.str.replace(\" \",\"_\")\n",
    "df2.rename(columns={'a_b': \"Stuff\", \"b\": \"Other\", \"c\": \"Hehe\"}, inplace=True)\n",
    "#df2"
   ]
  },
  {
   "cell_type": "code",
   "execution_count": 23,
   "id": "93a2bd39",
   "metadata": {},
   "outputs": [],
   "source": [
    "# Updating rows\n",
    "df2.loc[2] = ['I am graduating senior', 'Maybe', 'Over 3 years']\n",
    "df2.loc[1, ['Hehe', 'Other']] = ['Nice try', 'Oh No']\n",
    "#df2"
   ]
  },
  {
   "cell_type": "code",
   "execution_count": 24,
   "id": "fee8237d",
   "metadata": {},
   "outputs": [],
   "source": [
    "# Altering font of column\n",
    "#df2.loc[:,'Hehe'].str.upper()"
   ]
  },
  {
   "cell_type": "code",
   "execution_count": 25,
   "id": "ae861f53",
   "metadata": {},
   "outputs": [],
   "source": [
    "# Using apply, applyMap\n",
    "#df2['Stuff'].apply(len)\n",
    "#df2['Stuff'].apply(type)\n",
    "\n",
    "def lower_case(list1) -> None:\n",
    "    return list1.lower()\n",
    "\n",
    "def upper_case(list1) -> None:\n",
    "    return list1.upper()\n",
    "#df2['Hehe'].apply(upper_case)\n",
    "#df2['Hehe'].apply([lambda x: x.lower()])"
   ]
  },
  {
   "cell_type": "code",
   "execution_count": 26,
   "id": "cd5793b1",
   "metadata": {},
   "outputs": [],
   "source": [
    "#df2.applymap(upper_case)\n",
    "#df2.applymap(lower_case)\n",
    "#df2.applymap(len)\n",
    "#df2.apply(pd.Series.min)"
   ]
  },
  {
   "cell_type": "code",
   "execution_count": 27,
   "id": "c9671cfe",
   "metadata": {},
   "outputs": [],
   "source": [
    "my_list = df.loc[:,['PlatformWorkedWith', 'DevEnviron', 'ConvertedComp', 'LanguageWorkedWith', 'DatabaseWorkedWith', 'OpSys']]\n",
    "#my_list['OpSys'].value_counts()\n",
    "#my_list.loc[:,'OpSys'].map({'Windows':'win', 'MacOS': 'apple', 'Linux-based': 'penguin', 'BSD':'I don\\'t know.'})\n",
    "#my_list.loc[:,'OpSys'].replace({'Windows':'win', 'MacOS': 'apple', 'Linux-based': 'penguin', 'BSD':'I don\\'t know.'}).value_counts()"
   ]
  },
  {
   "cell_type": "code",
   "execution_count": 28,
   "id": "65937f12",
   "metadata": {},
   "outputs": [],
   "source": [
    "#my_list.rename(columns={'PlatformWorkedWith':'Platform', 'DevEnviron':'IDE', 'ConvertedComp': 'SalaryUSD', 'LanguageWorkedWith': 'KnownLang'})"
   ]
  },
  {
   "cell_type": "code",
   "execution_count": 29,
   "id": "7fa1d60a",
   "metadata": {},
   "outputs": [],
   "source": [
    "# Add / Remove Rows and columns\n",
    "my_list['Stuff and things'] = my_list['OpSys'] + \" Operating System\"\n",
    "my_list.drop(columns=['Stuff and things'], inplace=True)\n",
    "\n",
    "# Splitting\n",
    "# expand splits into seperate columns\n",
    "lang_used = my_list['LanguageWorkedWith'].str.split(\";\", expand=True)\n",
    "#lang_used\n",
    "\n",
    "#df2.append({'First': 'Tony'}, ignore_index=True)\n",
    "#df2.drop(index=5)\n",
    "#df2"
   ]
  },
  {
   "cell_type": "code",
   "execution_count": 30,
   "id": "3aea33bf",
   "metadata": {},
   "outputs": [],
   "source": [
    "# Learn iru_cache\n",
    "from functools import lru_cache\n",
    "\n",
    "@lru_cache\n",
    "def fib(n: int) -> int:\n",
    "    if n <= 1:\n",
    "        return n\n",
    "    else:\n",
    "        return fib(n-1) + fib(n-2)\n",
    "\n",
    "#print([fib(x) for x in range(0, 40)])\n",
    "#for i in range(0, 40):\n",
    "#    print(f'{i}: {fib(i)}')"
   ]
  },
  {
   "cell_type": "code",
   "execution_count": 31,
   "id": "3bff545e",
   "metadata": {},
   "outputs": [],
   "source": [
    "# Sorting Data\n",
    "#df2.sort_values(by='Respondent', ascending=True)\n",
    "#df2.sort_values(by='Stuff', ascending=False)\n",
    "df2.sort_values(by=['Stuff', 'Respondent'], ascending=[True, True], inplace=True)\n",
    "#df2"
   ]
  },
  {
   "cell_type": "code",
   "execution_count": 32,
   "id": "70f73dc2",
   "metadata": {},
   "outputs": [],
   "source": [
    "df2.sort_index(inplace=True)\n",
    "#df2"
   ]
  },
  {
   "cell_type": "code",
   "execution_count": 33,
   "id": "c208be92",
   "metadata": {},
   "outputs": [],
   "source": [
    "df_country = df.sort_values(by='Country', ascending=True)\n",
    "#df_country"
   ]
  },
  {
   "cell_type": "code",
   "execution_count": 34,
   "id": "619d69a8",
   "metadata": {},
   "outputs": [],
   "source": [
    "# Grouping and Aggregating\n",
    "#df[['ConvertedComp','Country']].groupby('Country'). median()\n",
    "#df.nlargest(10, 'ConvertedComp')\n",
    "#df.nsmallest(10, 'ConvertedComp')"
   ]
  },
  {
   "cell_type": "code",
   "execution_count": 35,
   "id": "b3ac9672",
   "metadata": {},
   "outputs": [],
   "source": [
    "df['ConvertedComp'].median(), df['ConvertedComp'].mean()\n",
    "df['ConvertedComp'].median()\n",
    "#df.describe()\n",
    "#f['ConvertedComp'].describe()*1/1000\n",
    "#f['Hobbyist'].value_counts()\n",
    "schema_df.loc['SocialMedia','QuestionText']\n",
    "#df['SocialMedia'].value_counts(normalize=True)\n",
    "country_grp = df.groupby('Country')\n",
    "#country_grp.get_group('United States')\n",
    "#country_grp.get_group('Ethiopia').loc[:,'SocialMedia'].value_counts()\n",
    "#country_grp['ConvertedComp'].agg(['mean', 'median'])\n",
    "country_grp['LanguageWorkedWith'].apply(lambda x: x.str.contains('Python').sum()) / country_grp['LanguageWorkedWith'].apply(lambda x: x.str.contains('Python').value_counts().sum()) * 100\n",
    "country_respondents = df['Country'].value_counts()\n",
    "country_know_python = df.groupby('Country')['LanguageWorkedWith'].apply(lambda x: x.str.contains('Python').sum())\n",
    "country_know_python\n",
    "python_df = pd.concat([country_respondents, country_know_python], axis='columns', sort=False)\n",
    "python_df.rename(columns={'Country':'Users_Total', 'LanguageWorkedWith':'Know_Python'}, inplace=True)\n",
    "python_df['Python%'] = country_know_python/country_respondents * 100\n",
    "python_df.sort_values(by='Python%', ascending=False, inplace=True)\n",
    "#python_df.loc['Ethiopia']"
   ]
  },
  {
   "cell_type": "code",
   "execution_count": 57,
   "id": "8d5b3c4a",
   "metadata": {},
   "outputs": [
    {
     "data": {
      "text/plain": [
       "(11.662114216834588, 9.0)"
      ]
     },
     "execution_count": 57,
     "metadata": {},
     "output_type": "execute_result"
    }
   ],
   "source": [
    "# Cleaning Data\n",
    "#df.dropna()\n",
    "#df.dropna(axis='index', how='any')\n",
    "#df.dropna(axis='index', subset=['Country'])\n",
    "#print(df['Country'].isna().value_counts())\n",
    "#df.fillna(\"MISSING\")\n",
    "df.dtypes\n",
    "df['YearsCode'].value_counts()\n",
    "df['YearsCode'].replace({'Less than 1 year': 0, 'More than 50 years':51}, inplace=True)\n",
    "df['YearsCode'] = df['YearsCode'].astype(float)\n",
    "df['YearsCode'].mean(), df['YearsCode'].median()"
   ]
  },
  {
   "cell_type": "code",
   "execution_count": null,
   "id": "ca22959f",
   "metadata": {},
   "outputs": [],
   "source": []
  }
 ],
 "metadata": {
  "kernelspec": {
   "display_name": "Python 3 (ipykernel)",
   "language": "python",
   "name": "python3"
  },
  "language_info": {
   "codemirror_mode": {
    "name": "ipython",
    "version": 3
   },
   "file_extension": ".py",
   "mimetype": "text/x-python",
   "name": "python",
   "nbconvert_exporter": "python",
   "pygments_lexer": "ipython3",
   "version": "3.9.12"
  }
 },
 "nbformat": 4,
 "nbformat_minor": 5
}
