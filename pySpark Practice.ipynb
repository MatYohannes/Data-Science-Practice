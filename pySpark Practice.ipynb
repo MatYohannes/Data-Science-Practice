{
 "cells": [
  {
   "cell_type": "code",
   "execution_count": 1,
   "id": "72837eb6",
   "metadata": {},
   "outputs": [],
   "source": [
    "#!pip install pyspark"
   ]
  },
  {
   "cell_type": "code",
   "execution_count": 2,
   "id": "6ca83eaf",
   "metadata": {},
   "outputs": [],
   "source": [
    "import numpy as np\n",
    "import pyspark\n",
    "import pandas as pd\n",
    "import os\n",
    "os.chdir('C:\\\\Users\\\\DR_OM\\\\Z-Jupyter Extras')"
   ]
  },
  {
   "cell_type": "code",
   "execution_count": 3,
   "id": "02747373",
   "metadata": {},
   "outputs": [],
   "source": [
    "#pd.read_csv('Test1.csv')"
   ]
  },
  {
   "cell_type": "code",
   "execution_count": 4,
   "id": "8e39e6cc",
   "metadata": {},
   "outputs": [],
   "source": [
    "from pyspark.sql import SparkSession"
   ]
  },
  {
   "cell_type": "code",
   "execution_count": 5,
   "id": "27ac2363",
   "metadata": {},
   "outputs": [],
   "source": [
    "## How to start a session\n",
    "spark = SparkSession.builder.appName('DataFrame').getOrCreate()"
   ]
  },
  {
   "cell_type": "code",
   "execution_count": 6,
   "id": "41dc040f",
   "metadata": {},
   "outputs": [
    {
     "data": {
      "text/html": [
       "\n",
       "            <div>\n",
       "                <p><b>SparkSession - in-memory</b></p>\n",
       "                \n",
       "        <div>\n",
       "            <p><b>SparkContext</b></p>\n",
       "\n",
       "            <p><a href=\"http://LAPTOP-GQKE0L4U.lan:4040\">Spark UI</a></p>\n",
       "\n",
       "            <dl>\n",
       "              <dt>Version</dt>\n",
       "                <dd><code>v3.5.1</code></dd>\n",
       "              <dt>Master</dt>\n",
       "                <dd><code>local[*]</code></dd>\n",
       "              <dt>AppName</dt>\n",
       "                <dd><code>DataFrame</code></dd>\n",
       "            </dl>\n",
       "        </div>\n",
       "        \n",
       "            </div>\n",
       "        "
      ],
      "text/plain": [
       "<pyspark.sql.session.SparkSession at 0x2a6bf411cd0>"
      ]
     },
     "execution_count": 6,
     "metadata": {},
     "output_type": "execute_result"
    }
   ],
   "source": [
    "spark"
   ]
  },
  {
   "cell_type": "code",
   "execution_count": 7,
   "id": "330360c6",
   "metadata": {},
   "outputs": [
    {
     "name": "stdout",
     "output_type": "stream",
     "text": [
      "+--------+----+----------+------+\n",
      "|     _c0| _c1|       _c2|   _c3|\n",
      "+--------+----+----------+------+\n",
      "|    Name| Age|Experience|Salary|\n",
      "|   Krish|  31|        10| 30000|\n",
      "|Sudhansh|  30|         8| 25000|\n",
      "|   Sunny|  29|         4| 20000|\n",
      "|    Paul|  24|         3| 20000|\n",
      "|  Harsha|  21|         1| 15000|\n",
      "| Shubham|  23|         2| 18000|\n",
      "|   Mahes|NULL|      NULL| 40000|\n",
      "|    NULL|  34|        10| 38000|\n",
      "|    NULL|  36|      NULL|  NULL|\n",
      "+--------+----+----------+------+\n",
      "\n"
     ]
    }
   ],
   "source": [
    "df_pyspark = spark.read.csv('Test1.csv')\n",
    "df_pyspark.show()"
   ]
  },
  {
   "cell_type": "code",
   "execution_count": 8,
   "id": "84a81eb0",
   "metadata": {},
   "outputs": [],
   "source": [
    "## Set the header of the dataset\n",
    "# inferSchema lets spark assign the correct dtype to columns. printSchema() displays the results\n",
    "df_pyspark = spark.read.option('header', True).csv('Test1.csv', inferSchema=True)\n",
    "#df_pyspark.show()"
   ]
  },
  {
   "cell_type": "code",
   "execution_count": 9,
   "id": "b5f9f486",
   "metadata": {},
   "outputs": [
    {
     "name": "stdout",
     "output_type": "stream",
     "text": [
      "root\n",
      " |-- Name: string (nullable = true)\n",
      " |-- Age: integer (nullable = true)\n",
      " |-- Experience: integer (nullable = true)\n",
      " |-- Salary: integer (nullable = true)\n",
      "\n"
     ]
    }
   ],
   "source": [
    "df_pyspark.printSchema()\n",
    "#df_pyspark.columns"
   ]
  },
  {
   "cell_type": "code",
   "execution_count": 10,
   "id": "f20d2627",
   "metadata": {},
   "outputs": [],
   "source": [
    "#df_pyspark.select('Name').show()\n",
    "#df_pyspark.select(['Name', 'Age']).show()\n",
    "#df_pyspark.dtypes\n",
    "#df_pyspark.describe().show()"
   ]
  },
  {
   "cell_type": "code",
   "execution_count": 11,
   "id": "85eb95ce",
   "metadata": {},
   "outputs": [],
   "source": [
    "## Adding Columns in data frame\n",
    "df_pyspark = df_pyspark.withColumn('Experience After 2 years', df_pyspark['Experience'] + 2)\n",
    "#df_pyspark.show()"
   ]
  },
  {
   "cell_type": "code",
   "execution_count": 12,
   "id": "84be31da",
   "metadata": {},
   "outputs": [],
   "source": [
    "## Drop the columns\n",
    "df_pyspark = df_pyspark.drop('Experience After 2 years')\n",
    "#df_pyspark.show()"
   ]
  },
  {
   "cell_type": "code",
   "execution_count": 13,
   "id": "6eeae6f7",
   "metadata": {},
   "outputs": [],
   "source": [
    "## Rename the column\n",
    "#df_pyspark = df_pyspark.withColumnRenamed('Name', 'New Name')\n",
    "#df_pyspark.show()"
   ]
  },
  {
   "cell_type": "code",
   "execution_count": 14,
   "id": "52e5106b",
   "metadata": {},
   "outputs": [],
   "source": [
    "## Drop all NAN rows\n",
    "#df_pyspark.na.drop().show()"
   ]
  },
  {
   "cell_type": "code",
   "execution_count": 15,
   "id": "7bf0ad53",
   "metadata": {},
   "outputs": [],
   "source": [
    "##  Threshold: drop rows that have less than `thresh` non-null values.\n",
    "#df_pyspark.na.drop(thresh=3).show()\n",
    "#df_pyspark.na.drop(thresh=5).show()\n"
   ]
  },
  {
   "cell_type": "code",
   "execution_count": 16,
   "id": "5a38905d",
   "metadata": {},
   "outputs": [],
   "source": [
    "## Subset\n",
    "#df_pyspark.show()\n",
    "#df_pyspark.na.drop(subset=['Experience']).show()\n",
    "#df_pyspark.na.drop(subset=['Age']).show()"
   ]
  },
  {
   "cell_type": "code",
   "execution_count": 17,
   "id": "dc0d26d4",
   "metadata": {},
   "outputs": [],
   "source": [
    "## Filling missing values\n",
    "## This works for only String columns\n",
    "#df_pyspark.na.fill(\"Missing\").show()"
   ]
  },
  {
   "cell_type": "code",
   "execution_count": 18,
   "id": "063825cb",
   "metadata": {},
   "outputs": [],
   "source": [
    "from pyspark.ml.feature import Imputer\n",
    "\n",
    "imputer = Imputer(\n",
    "            inputCols=['Age', 'Experience', 'Salary'],\n",
    "            outputCols=[\"{}_imputed\".format(x) for x in ['Age', 'Experience', 'Salary']]\n",
    "        ).setStrategy('mean')\n",
    "imputer2 = Imputer(\n",
    "            inputCols=['Age', 'Experience', 'Salary'],\n",
    "            outputCols=[\"{}_imputed\".format(x) for x in ['Age', 'Experience', 'Salary']]\n",
    "        ).setStrategy('median')"
   ]
  },
  {
   "cell_type": "code",
   "execution_count": 19,
   "id": "12c91595",
   "metadata": {},
   "outputs": [],
   "source": [
    "## Add imputation columns to df\n",
    "#imputer.fit(df_pyspark).transform(df_pyspark).show()\n",
    "#imputer2.fit(df_pyspark).transform(df_pyspark).show()"
   ]
  },
  {
   "cell_type": "code",
   "execution_count": 20,
   "id": "4c38f79f",
   "metadata": {},
   "outputs": [],
   "source": [
    "## Filter\n",
    "df_pyspark2 = df_pyspark.na.drop(thresh=4)\n",
    "#df_pyspark2.show()"
   ]
  },
  {
   "cell_type": "code",
   "execution_count": 21,
   "id": "160abec3",
   "metadata": {},
   "outputs": [],
   "source": [
    "## Salary of people less than or equal to 20,000\n",
    "#df_pyspark2.filter('Salary<=20000').show()"
   ]
  },
  {
   "cell_type": "code",
   "execution_count": 22,
   "id": "69669d4f",
   "metadata": {},
   "outputs": [],
   "source": [
    "## Select specific columns from filter\n",
    "#df_pyspark2.filter('Salary<=20000').select(['Name', 'Age']).show()\n",
    "#df_pyspark2.filter(df_pyspark2['Salary']<=20000).show()"
   ]
  },
  {
   "cell_type": "code",
   "execution_count": 23,
   "id": "0470b261",
   "metadata": {},
   "outputs": [],
   "source": [
    "#df_pyspark2.filter((df_pyspark2['Salary']<=20000) & (df_pyspark2['Age']>23)).show()\n",
    "# not symbol ~\n",
    "#df_pyspark2.filter((df_pyspark2['Salary']<=20000) & ~(df_pyspark2['Age']>23)).show()"
   ]
  },
  {
   "cell_type": "code",
   "execution_count": 24,
   "id": "3b857c0e",
   "metadata": {},
   "outputs": [],
   "source": [
    "df_pyspark3 = spark.read.option('header', True).csv('Test2.csv', inferSchema=True)"
   ]
  },
  {
   "cell_type": "code",
   "execution_count": 25,
   "id": "5991a30d",
   "metadata": {},
   "outputs": [],
   "source": [
    "#df_pyspark3.show()"
   ]
  },
  {
   "cell_type": "code",
   "execution_count": 26,
   "id": "a0860ee3",
   "metadata": {},
   "outputs": [],
   "source": [
    "## Groupby and Aggregate Functions\n",
    "#df_pyspark3.printSchema()"
   ]
  },
  {
   "cell_type": "code",
   "execution_count": 27,
   "id": "88691c88",
   "metadata": {},
   "outputs": [],
   "source": [
    "## Groupby\n",
    "#df_pyspark3.groupBy('Name').sum().show()\n",
    "\n",
    "## Groupby departments for max salary\n",
    "#df_pyspark3.groupBy('Departments').sum().show()\n",
    "\n",
    "## Groupby departments by mean salary\n",
    "#df_pyspark3.groupBy('Departments').mean().show()"
   ]
  },
  {
   "cell_type": "code",
   "execution_count": 28,
   "id": "9f986d08",
   "metadata": {},
   "outputs": [],
   "source": [
    "#df_pyspark3.groupBy('Name').agg({'Salary':'sum'}).show()"
   ]
  },
  {
   "cell_type": "code",
   "execution_count": 29,
   "id": "fed3515a",
   "metadata": {},
   "outputs": [
    {
     "name": "stdout",
     "output_type": "stream",
     "text": [
      "+--------+---+----------+------+\n",
      "|    Name|Age|Experience|Salary|\n",
      "+--------+---+----------+------+\n",
      "|   Krish| 31|        10| 30000|\n",
      "|Sudhansh| 30|         8| 25000|\n",
      "|   Sunny| 29|         4| 20000|\n",
      "|    Paul| 24|         3| 20000|\n",
      "|  Harsha| 21|         1| 15000|\n",
      "| Shubham| 23|         2| 18000|\n",
      "+--------+---+----------+------+\n",
      "\n"
     ]
    }
   ],
   "source": [
    "df_pyspark2.show()"
   ]
  },
  {
   "cell_type": "markdown",
   "id": "d1e1349f",
   "metadata": {},
   "source": [
    "#### ['Age', 'Experience'] ---> new feature ---> independent feature"
   ]
  },
  {
   "cell_type": "code",
   "execution_count": 30,
   "id": "395731ba",
   "metadata": {},
   "outputs": [],
   "source": [
    "from pyspark.ml.feature import VectorAssembler\n",
    "feature_assembler = VectorAssembler(inputCols=['Age', 'Experience'],outputCol='Independent Feature')"
   ]
  },
  {
   "cell_type": "code",
   "execution_count": 31,
   "id": "4f216dec",
   "metadata": {},
   "outputs": [
    {
     "name": "stdout",
     "output_type": "stream",
     "text": [
      "+--------+---+----------+------+-------------------+\n",
      "|    Name|Age|Experience|Salary|Independent Feature|\n",
      "+--------+---+----------+------+-------------------+\n",
      "|   Krish| 31|        10| 30000|        [31.0,10.0]|\n",
      "|Sudhansh| 30|         8| 25000|         [30.0,8.0]|\n",
      "|   Sunny| 29|         4| 20000|         [29.0,4.0]|\n",
      "|    Paul| 24|         3| 20000|         [24.0,3.0]|\n",
      "|  Harsha| 21|         1| 15000|         [21.0,1.0]|\n",
      "| Shubham| 23|         2| 18000|         [23.0,2.0]|\n",
      "+--------+---+----------+------+-------------------+\n",
      "\n"
     ]
    },
    {
     "data": {
      "text/plain": [
       "['Name', 'Age', 'Experience', 'Salary', 'Independent Feature']"
      ]
     },
     "execution_count": 31,
     "metadata": {},
     "output_type": "execute_result"
    }
   ],
   "source": [
    "output = feature_assembler.transform(df_pyspark2)\n",
    "output.show()\n",
    "output.columns"
   ]
  },
  {
   "cell_type": "code",
   "execution_count": 32,
   "id": "b8165679",
   "metadata": {},
   "outputs": [
    {
     "name": "stdout",
     "output_type": "stream",
     "text": [
      "+-------------------+------+\n",
      "|Independent Feature|Salary|\n",
      "+-------------------+------+\n",
      "|        [31.0,10.0]| 30000|\n",
      "|         [30.0,8.0]| 25000|\n",
      "|         [29.0,4.0]| 20000|\n",
      "|         [24.0,3.0]| 20000|\n",
      "|         [21.0,1.0]| 15000|\n",
      "|         [23.0,2.0]| 18000|\n",
      "+-------------------+------+\n",
      "\n"
     ]
    }
   ],
   "source": [
    "finalized_data = output.select('Independent Feature', 'Salary')\n",
    "finalized_data.show()"
   ]
  },
  {
   "cell_type": "code",
   "execution_count": 33,
   "id": "c9b01654",
   "metadata": {},
   "outputs": [],
   "source": [
    "from pyspark.ml.regression import LinearRegression\n",
    "train_data, test_data = finalized_data.randomSplit([0.75, 0.25])\n",
    "regressor = LinearRegression(featuresCol='Independent Feature', labelCol='Salary')\n",
    "regressor = regressor.fit(train_data)"
   ]
  },
  {
   "cell_type": "code",
   "execution_count": 34,
   "id": "2c2fab69",
   "metadata": {},
   "outputs": [
    {
     "data": {
      "text/plain": [
       "DenseVector([-2087.7193, 3561.4035])"
      ]
     },
     "execution_count": 34,
     "metadata": {},
     "output_type": "execute_result"
    }
   ],
   "source": [
    "## Coefficients\n",
    "regressor.coefficients"
   ]
  },
  {
   "cell_type": "code",
   "execution_count": 35,
   "id": "26fd0848",
   "metadata": {},
   "outputs": [
    {
     "data": {
      "text/plain": [
       "59140.35087715416"
      ]
     },
     "execution_count": 35,
     "metadata": {},
     "output_type": "execute_result"
    }
   ],
   "source": [
    "## Intercepts\n",
    "regressor.intercept"
   ]
  },
  {
   "cell_type": "code",
   "execution_count": 36,
   "id": "f0a83368",
   "metadata": {},
   "outputs": [
    {
     "name": "stdout",
     "output_type": "stream",
     "text": [
      "+-------------------+------+------------------+\n",
      "|Independent Feature|Salary|        prediction|\n",
      "+-------------------+------+------------------+\n",
      "|         [21.0,1.0]| 15000|18859.649122805153|\n",
      "|         [29.0,4.0]| 20000|12842.105263165002|\n",
      "+-------------------+------+------------------+\n",
      "\n"
     ]
    }
   ],
   "source": [
    "## Prediction\n",
    "pred_results = regressor.evaluate(test_data)\n",
    "pred_results.predictions.show()"
   ]
  },
  {
   "cell_type": "code",
   "execution_count": 37,
   "id": "5141a2dd",
   "metadata": {},
   "outputs": [
    {
     "data": {
      "text/plain": [
       "(5508.7719298200755, 33066174.20739037)"
      ]
     },
     "execution_count": 37,
     "metadata": {},
     "output_type": "execute_result"
    }
   ],
   "source": [
    "pred_results.meanAbsoluteError, pred_results.meanSquaredError"
   ]
  },
  {
   "cell_type": "code",
   "execution_count": null,
   "id": "ba45b52f",
   "metadata": {},
   "outputs": [],
   "source": []
  },
  {
   "cell_type": "code",
   "execution_count": null,
   "id": "ba54e15a",
   "metadata": {},
   "outputs": [],
   "source": []
  },
  {
   "cell_type": "code",
   "execution_count": null,
   "id": "61dc0206",
   "metadata": {},
   "outputs": [],
   "source": []
  },
  {
   "cell_type": "code",
   "execution_count": null,
   "id": "2fbad0e6",
   "metadata": {},
   "outputs": [],
   "source": []
  }
 ],
 "metadata": {
  "kernelspec": {
   "display_name": "Python 3 (ipykernel)",
   "language": "python",
   "name": "python3"
  },
  "language_info": {
   "codemirror_mode": {
    "name": "ipython",
    "version": 3
   },
   "file_extension": ".py",
   "mimetype": "text/x-python",
   "name": "python",
   "nbconvert_exporter": "python",
   "pygments_lexer": "ipython3",
   "version": "3.9.12"
  }
 },
 "nbformat": 4,
 "nbformat_minor": 5
}
