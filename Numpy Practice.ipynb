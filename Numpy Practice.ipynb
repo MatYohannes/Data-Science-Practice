{
 "cells": [
  {
   "cell_type": "markdown",
   "id": "cf850348",
   "metadata": {},
   "source": [
    "Numpy is faster than list because it uses fixed types.\n",
    "- Faster to read less bytes of memory\n",
    "- uses contiguous (next or together in sequence) memory. \n",
    "- SIMD (Single instruction, multiple data) Vector Processing. \n",
    "- Effective Cache Utilization"
   ]
  },
  {
   "cell_type": "code",
   "execution_count": 49,
   "id": "99e7f911",
   "metadata": {},
   "outputs": [],
   "source": [
    "import numpy as np\n",
    "import os\n",
    "os.chdir('C:\\\\Users\\\\DR_OM\\\\Z-Jupyter Extras')"
   ]
  },
  {
   "cell_type": "code",
   "execution_count": 2,
   "id": "85227129",
   "metadata": {},
   "outputs": [
    {
     "name": "stdout",
     "output_type": "stream",
     "text": [
      "[1 2 3]\n",
      "[[9. 8. 7.]\n",
      " [6. 5. 4.]]\n"
     ]
    },
    {
     "data": {
      "text/plain": [
       "(12, 48)"
      ]
     },
     "execution_count": 2,
     "metadata": {},
     "output_type": "execute_result"
    }
   ],
   "source": [
    "a = np.array([1, 2, 3])\n",
    "b = np.array([[9.0, 8.0, 7.0], [6.0, 5.0, 4.0]])\n",
    "print(a), print(b)\n",
    "\n",
    "# Get dimension\n",
    "a.ndim, b.ndim\n",
    "\n",
    "# Get shape\n",
    "a.shape, b.shape\n",
    "\n",
    "# Get data type\n",
    "a.dtype, b.dtype\n",
    "\n",
    "# Get size\n",
    "a.itemsize, b.itemsize\n",
    "\n",
    "# Get byte size\n",
    "a.nbytes, b.nbytes"
   ]
  },
  {
   "cell_type": "code",
   "execution_count": 3,
   "id": "9b01f38a",
   "metadata": {},
   "outputs": [
    {
     "name": "stdout",
     "output_type": "stream",
     "text": [
      "[[ 1  2  3  4  5  6  7]\n",
      " [ 8  9 10 11 12 13 14]]\n"
     ]
    }
   ],
   "source": [
    "c = np.array([[1, 2, 3, 4, 5, 6, 7], [8, 9, 10, 11, 12, 13, 14]])\n",
    "print(c)"
   ]
  },
  {
   "cell_type": "markdown",
   "id": "7b131e4c",
   "metadata": {},
   "source": [
    "### Initializing Different Types of Arrays"
   ]
  },
  {
   "cell_type": "code",
   "execution_count": 4,
   "id": "ab288118",
   "metadata": {},
   "outputs": [
    {
     "data": {
      "text/plain": [
       "array([[0., 0., 0.],\n",
       "       [0., 0., 0.]])"
      ]
     },
     "execution_count": 4,
     "metadata": {},
     "output_type": "execute_result"
    }
   ],
   "source": [
    "np.zeros((2,3))"
   ]
  },
  {
   "cell_type": "code",
   "execution_count": 5,
   "id": "79156f61",
   "metadata": {},
   "outputs": [
    {
     "data": {
      "text/plain": [
       "array([[[1., 1.],\n",
       "        [1., 1.]],\n",
       "\n",
       "       [[1., 1.],\n",
       "        [1., 1.]],\n",
       "\n",
       "       [[1., 1.],\n",
       "        [1., 1.]],\n",
       "\n",
       "       [[1., 1.],\n",
       "        [1., 1.]]], dtype=float32)"
      ]
     },
     "execution_count": 5,
     "metadata": {},
     "output_type": "execute_result"
    }
   ],
   "source": [
    "np.ones((4, 2, 2), dtype='float32') "
   ]
  },
  {
   "cell_type": "code",
   "execution_count": 6,
   "id": "b1a6deb2",
   "metadata": {},
   "outputs": [
    {
     "data": {
      "text/plain": [
       "array([[69, 69],\n",
       "       [69, 69]])"
      ]
     },
     "execution_count": 6,
     "metadata": {},
     "output_type": "execute_result"
    }
   ],
   "source": [
    "# Set dimensions then value\n",
    "np.full((2, 2), 69)"
   ]
  },
  {
   "cell_type": "code",
   "execution_count": 7,
   "id": "70457f09",
   "metadata": {},
   "outputs": [],
   "source": [
    "# full_like copies the dimensions of an existing matrix\n",
    "#np.full_like(c, 69)\n",
    "# or\n",
    "#np.full(c.shape, 69)"
   ]
  },
  {
   "cell_type": "code",
   "execution_count": 8,
   "id": "8489952e",
   "metadata": {},
   "outputs": [
    {
     "data": {
      "text/plain": [
       "array([[0.50128061, 0.40808043, 0.92628524, 0.01364325, 0.77197096,\n",
       "        0.48383634, 0.44166953],\n",
       "       [0.75881201, 0.79953441, 0.24296688, 0.94105916, 0.44565983,\n",
       "        0.87072147, 0.92599379]])"
      ]
     },
     "execution_count": 8,
     "metadata": {},
     "output_type": "execute_result"
    }
   ],
   "source": [
    "# Random decimal numbers\n",
    "np.random.rand(2,5)\n",
    "np.random.random_sample(c.shape)"
   ]
  },
  {
   "cell_type": "code",
   "execution_count": 9,
   "id": "f765a1d0",
   "metadata": {},
   "outputs": [
    {
     "data": {
      "text/plain": [
       "array([[7, 4],\n",
       "       [7, 3]])"
      ]
     },
     "execution_count": 9,
     "metadata": {},
     "output_type": "execute_result"
    }
   ],
   "source": [
    "# Random Integer valeus\n",
    "np.random.randint(10, size=[2,2])"
   ]
  },
  {
   "cell_type": "code",
   "execution_count": 10,
   "id": "8de2e8f9",
   "metadata": {},
   "outputs": [
    {
     "data": {
      "text/plain": [
       "array([[1., 0., 0.],\n",
       "       [0., 1., 0.],\n",
       "       [0., 0., 1.]])"
      ]
     },
     "execution_count": 10,
     "metadata": {},
     "output_type": "execute_result"
    }
   ],
   "source": [
    "# Identity matrix\n",
    "np.identity(3)"
   ]
  },
  {
   "cell_type": "code",
   "execution_count": 11,
   "id": "20b3310f",
   "metadata": {},
   "outputs": [
    {
     "data": {
      "text/plain": [
       "array([1, 1, 1, 2, 2, 2, 3, 3, 3])"
      ]
     },
     "execution_count": 11,
     "metadata": {},
     "output_type": "execute_result"
    }
   ],
   "source": [
    "# Repeat an array\n",
    "arr = np.array([1, 2, 3])\n",
    "r1 = np.repeat(arr, 3, axis=0)\n",
    "r1"
   ]
  },
  {
   "cell_type": "code",
   "execution_count": 12,
   "id": "fe026bde",
   "metadata": {},
   "outputs": [
    {
     "data": {
      "text/plain": [
       "array([[1., 1., 1., 1., 1.],\n",
       "       [1., 0., 0., 0., 1.],\n",
       "       [1., 0., 9., 0., 1.],\n",
       "       [1., 0., 0., 0., 1.],\n",
       "       [1., 1., 1., 1., 1.]])"
      ]
     },
     "execution_count": 12,
     "metadata": {},
     "output_type": "execute_result"
    }
   ],
   "source": [
    "table1 = np.ones((5, 5))\n",
    "table1[1:4,1:4] = np.zeros((3,3))\n",
    "table1[2,2] = 9\n",
    "table1\n",
    "\n"
   ]
  },
  {
   "cell_type": "markdown",
   "id": "ec46756f",
   "metadata": {},
   "source": [
    "### Be carefule when copying arrays"
   ]
  },
  {
   "cell_type": "markdown",
   "id": "48ea2af5",
   "metadata": {},
   "source": [
    "Need to use .copy() to prevent any changes that occur to new array, does not affect the original"
   ]
  },
  {
   "cell_type": "code",
   "execution_count": 13,
   "id": "5ae0a28e",
   "metadata": {},
   "outputs": [],
   "source": [
    "a\n",
    "e = a.copy()\n",
    "e[1] = 22"
   ]
  },
  {
   "cell_type": "markdown",
   "id": "62801267",
   "metadata": {},
   "source": [
    "### Linear Algebra"
   ]
  },
  {
   "cell_type": "code",
   "execution_count": 14,
   "id": "0eadbd3b",
   "metadata": {},
   "outputs": [
    {
     "name": "stdout",
     "output_type": "stream",
     "text": [
      "[[1. 1. 1.]\n",
      " [1. 1. 1.]]\n",
      "[[2 2]\n",
      " [2 2]\n",
      " [2 2]]\n"
     ]
    }
   ],
   "source": [
    "a1 = np.ones((2, 3))\n",
    "a2 = np.full((3, 2), 2)\n",
    "print(a1)\n",
    "print(a2)"
   ]
  },
  {
   "cell_type": "code",
   "execution_count": 15,
   "id": "b688364d",
   "metadata": {},
   "outputs": [
    {
     "data": {
      "text/plain": [
       "1.0"
      ]
     },
     "execution_count": 15,
     "metadata": {},
     "output_type": "execute_result"
    }
   ],
   "source": [
    "# Find the determinant\n",
    "np.matmul(a1,a2)\n",
    "adeter = np.identity(3)\n",
    "np.linalg.det(adeter)"
   ]
  },
  {
   "cell_type": "markdown",
   "id": "5f21f435",
   "metadata": {},
   "source": [
    "### Reference docs (https://docs.scipy.org/doc/numpy/reference/routines.linalg.html)"
   ]
  },
  {
   "cell_type": "markdown",
   "id": "67d08a30",
   "metadata": {},
   "source": [
    "### Statistics"
   ]
  },
  {
   "cell_type": "code",
   "execution_count": 16,
   "id": "1ca08c0e",
   "metadata": {},
   "outputs": [
    {
     "name": "stdout",
     "output_type": "stream",
     "text": [
      "[[1 2 3]\n",
      " [4 5 6]]\n"
     ]
    }
   ],
   "source": [
    "stats = np.array([[1, 2, 3], [4, 5, 6]])\n",
    "print(stats)"
   ]
  },
  {
   "cell_type": "code",
   "execution_count": 17,
   "id": "b09f26fb",
   "metadata": {},
   "outputs": [
    {
     "data": {
      "text/plain": [
       "array([3, 6])"
      ]
     },
     "execution_count": 17,
     "metadata": {},
     "output_type": "execute_result"
    }
   ],
   "source": [
    "np.min(stats, axis=1)\n",
    "np.max(stats, axis=1)"
   ]
  },
  {
   "cell_type": "markdown",
   "id": "8268130d",
   "metadata": {},
   "source": [
    "#### Reorganizing Arrays"
   ]
  },
  {
   "cell_type": "code",
   "execution_count": 18,
   "id": "b8e6513c",
   "metadata": {},
   "outputs": [
    {
     "name": "stdout",
     "output_type": "stream",
     "text": [
      "[[1 2 3 4]\n",
      " [5 6 7 8]]\n",
      "[[1 2]\n",
      " [3 4]\n",
      " [5 6]\n",
      " [7 8]]\n"
     ]
    }
   ],
   "source": [
    "before = np.array([[1, 2, 3, 4], [5, 6, 7, 8]])\n",
    "print(before)\n",
    "after = before.reshape((4,2))\n",
    "print(after)"
   ]
  },
  {
   "cell_type": "code",
   "execution_count": 19,
   "id": "9a8b9aa4",
   "metadata": {},
   "outputs": [
    {
     "name": "stdout",
     "output_type": "stream",
     "text": [
      "[[0. 0.]\n",
      " [0. 0.]\n",
      " [0. 0.]]\n",
      "[[1. 1. 1.]\n",
      " [1. 1. 1.]\n",
      " [1. 1. 1.]]\n",
      "[[0. 0. 1. 1. 1.]\n",
      " [0. 0. 1. 1. 1.]\n",
      " [0. 0. 1. 1. 1.]]\n"
     ]
    }
   ],
   "source": [
    "# Vertically stacking vectors\n",
    "v1 = before[0].copy()\n",
    "v2 = before[1].copy()\n",
    "vs = np.vstack([v1, v2])\n",
    "\n",
    "h1 = np.zeros((3,2))\n",
    "h2 = np.ones((3,3))\n",
    "hs = np.hstack((h1, h2))\n",
    "print(h1)\n",
    "print(h2)\n",
    "print(hs)"
   ]
  },
  {
   "cell_type": "code",
   "execution_count": 27,
   "id": "1bb75b51",
   "metadata": {},
   "outputs": [],
   "source": [
    "file_data = np.genfromtxt('Numpypractice1.txt', delimiter=',')\n",
    "file_data = file_data.astype('int32')"
   ]
  },
  {
   "cell_type": "markdown",
   "id": "f4eee7f1",
   "metadata": {},
   "source": [
    "#### Boolean Masking and Advanced Indexing"
   ]
  },
  {
   "cell_type": "code",
   "execution_count": 29,
   "id": "30a8efd9",
   "metadata": {},
   "outputs": [
    {
     "data": {
      "text/plain": [
       "array([196,  75, 766,  75,  55, 999,  78,  76,  88])"
      ]
     },
     "execution_count": 29,
     "metadata": {},
     "output_type": "execute_result"
    }
   ],
   "source": [
    "file_data > 50\n",
    "file_data[file_data > 50]"
   ]
  },
  {
   "cell_type": "code",
   "execution_count": 33,
   "id": "bbc16281",
   "metadata": {},
   "outputs": [
    {
     "data": {
      "text/plain": [
       "array([False, False, False, False,  True,  True, False,  True,  True,\n",
       "       False, False, False, False, False, False, False,  True,  True])"
      ]
     },
     "execution_count": 33,
     "metadata": {},
     "output_type": "execute_result"
    }
   ],
   "source": [
    "np.any(file_data > 50, axis=0)"
   ]
  },
  {
   "cell_type": "code",
   "execution_count": 48,
   "id": "542e8ea6",
   "metadata": {},
   "outputs": [
    {
     "name": "stdout",
     "output_type": "stream",
     "text": [
      "[[ 1  2  3  4  5]\n",
      " [ 6  7  8  9 10]\n",
      " [11 12 13 14 15]\n",
      " [16 17 18 19 20]\n",
      " [21 22 23 24 25]\n",
      " [26 27 28 29 30]]\n",
      "[[11 12]\n",
      " [16 17]]\n"
     ]
    }
   ],
   "source": [
    "numbers = np.arange(1, 31)\n",
    "numbers.shape\n",
    "numbers_matrix = numbers.reshape((6,5))\n",
    "print(numbers_matrix)\n",
    "print(numbers_matrix[2:4, 0:2])"
   ]
  },
  {
   "cell_type": "code",
   "execution_count": null,
   "id": "89ce2885",
   "metadata": {},
   "outputs": [],
   "source": []
  }
 ],
 "metadata": {
  "kernelspec": {
   "display_name": "Python 3 (ipykernel)",
   "language": "python",
   "name": "python3"
  },
  "language_info": {
   "codemirror_mode": {
    "name": "ipython",
    "version": 3
   },
   "file_extension": ".py",
   "mimetype": "text/x-python",
   "name": "python",
   "nbconvert_exporter": "python",
   "pygments_lexer": "ipython3",
   "version": "3.9.12"
  }
 },
 "nbformat": 4,
 "nbformat_minor": 5
}
